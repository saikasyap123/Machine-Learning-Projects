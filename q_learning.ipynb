{
 "cells": [
  {
   "cell_type": "code",
   "execution_count": 1,
   "metadata": {},
   "outputs": [],
   "source": [
    "import numpy as np\n",
    "import gym\n",
    "import random\n",
    "import time\n",
    "from IPython.display import clear_output"
   ]
  },
  {
   "cell_type": "code",
   "execution_count": 2,
   "metadata": {},
   "outputs": [],
   "source": [
    "env = gym.make('FrozenLake-v0')"
   ]
  },
  {
   "cell_type": "code",
   "execution_count": 4,
   "metadata": {},
   "outputs": [
    {
     "data": {
      "text/plain": [
       "array([[0., 0., 0., 0.],\n",
       "       [0., 0., 0., 0.],\n",
       "       [0., 0., 0., 0.],\n",
       "       [0., 0., 0., 0.],\n",
       "       [0., 0., 0., 0.],\n",
       "       [0., 0., 0., 0.],\n",
       "       [0., 0., 0., 0.],\n",
       "       [0., 0., 0., 0.],\n",
       "       [0., 0., 0., 0.],\n",
       "       [0., 0., 0., 0.],\n",
       "       [0., 0., 0., 0.],\n",
       "       [0., 0., 0., 0.],\n",
       "       [0., 0., 0., 0.],\n",
       "       [0., 0., 0., 0.],\n",
       "       [0., 0., 0., 0.],\n",
       "       [0., 0., 0., 0.]])"
      ]
     },
     "execution_count": 4,
     "metadata": {},
     "output_type": "execute_result"
    }
   ],
   "source": [
    "action_space = env.action_space.n\n",
    "state_space = env.observation_space.n\n",
    "q_table = np.zeros((state_space, action_space))\n",
    "q_table"
   ]
  },
  {
   "cell_type": "code",
   "execution_count": 5,
   "metadata": {},
   "outputs": [],
   "source": [
    "num_episodes = 10000\n",
    "max_steps_per_episode = 100\n",
    "learning_rate = 0.1\n",
    "discount_rate = 0.99\n",
    "exploration_rate = 1\n",
    "max_exploration_rate = 1\n",
    "min_exploration_rate = 0.01\n",
    "exploration_decay_rate = 0.001\n"
   ]
  },
  {
   "cell_type": "code",
   "execution_count": 9,
   "metadata": {},
   "outputs": [
    {
     "name": "stdout",
     "output_type": "stream",
     "text": [
      "***** average reward per 1000 episodes *****\n",
      "\n",
      "1000 : 0.05000000000000004\n",
      "2000 : 0.19300000000000014\n",
      "3000 : 0.4040000000000003\n",
      "4000 : 0.5570000000000004\n",
      "5000 : 0.5960000000000004\n",
      "6000 : 0.6660000000000005\n",
      "7000 : 0.6630000000000005\n",
      "8000 : 0.6920000000000005\n",
      "9000 : 0.6620000000000005\n",
      "10000 : 0.6940000000000005\n",
      "***** q_table *****\n",
      "\n",
      "[[0.54675815 0.52215134 0.52244177 0.51819315]\n",
      " [0.30608414 0.38359617 0.20170262 0.51615321]\n",
      " [0.40435665 0.40374435 0.40734035 0.47808411]\n",
      " [0.32424191 0.30701174 0.28191751 0.47040235]\n",
      " [0.5664303  0.40290315 0.29387794 0.42468524]\n",
      " [0.         0.         0.         0.        ]\n",
      " [0.17940385 0.16527691 0.40596947 0.14494084]\n",
      " [0.         0.         0.         0.        ]\n",
      " [0.38364097 0.53594128 0.46251837 0.60713004]\n",
      " [0.47889058 0.6394758  0.49536033 0.46592834]\n",
      " [0.52312508 0.30281572 0.22867991 0.31813709]\n",
      " [0.         0.         0.         0.        ]\n",
      " [0.         0.         0.         0.        ]\n",
      " [0.45493471 0.55518558 0.77861385 0.54928058]\n",
      " [0.72321517 0.91858645 0.75553806 0.79673586]\n",
      " [0.         0.         0.         0.        ]]\n"
     ]
    }
   ],
   "source": [
    "reward_all_episodes = []\n",
    "for episode in range(num_episodes):\n",
    "    state = env.reset()\n",
    "    done = False\n",
    "    rewards_current_episode = 0\n",
    "    for step in range(max_steps_per_episode):\n",
    "        threshold = random.uniform(0,1)\n",
    "        if threshold > exploration_rate:\n",
    "            action = np.argmax(q_table[state,:])\n",
    "        else:\n",
    "            action = env.action_space.sample()\n",
    "        new_state, reward, done, info = env.step(action)\n",
    "        q_table[state, action] =  q_table[state, action]*(1-learning_rate) + \\\n",
    "                                    learning_rate * (reward + discount_rate * np.max(q_table[new_state, :]))\n",
    "        state = new_state\n",
    "        rewards_current_episode += reward\n",
    "        if done == True:\n",
    "            break\n",
    "    exploration_rate = min_exploration_rate + \\\n",
    "                        (max_exploration_rate - min_exploration_rate) * np.exp(-exploration_decay_rate*episode)\n",
    "    reward_all_episodes.append(rewards_current_episode)\n",
    "    \n",
    "rewards_per_thousand_episodes = np.split(np.array(reward_all_episodes),num_episodes/1000)\n",
    "count = 1000\n",
    "print('***** average reward per 1000 episodes *****\\n')\n",
    "for r in rewards_per_thousand_episodes :\n",
    "    a = sum(r/1000)\n",
    "    print('{} : {}'.format(count, a))\n",
    "    count += 1000\n",
    "    \n",
    "print('***** q_table *****\\n')\n",
    "print(q_table)"
   ]
  },
  {
   "cell_type": "code",
   "execution_count": 8,
   "metadata": {},
   "outputs": [
    {
     "name": "stdout",
     "output_type": "stream",
     "text": [
      "[[0.53950126 0.46599422 0.45210608 0.46726959]\n",
      " [0.34843393 0.3219478  0.38934911 0.48793137]\n",
      " [0.38178153 0.38383072 0.38320749 0.45190005]\n",
      " [0.33363217 0.24512808 0.36708641 0.43509929]\n",
      " [0.56074553 0.37441685 0.34682401 0.37745017]\n",
      " [0.         0.         0.         0.        ]\n",
      " [0.2677588  0.11234018 0.13318736 0.116713  ]\n",
      " [0.         0.         0.         0.        ]\n",
      " [0.42783586 0.45884666 0.36004852 0.58000183]\n",
      " [0.42341603 0.62990431 0.28537436 0.39688094]\n",
      " [0.57016169 0.36477794 0.32709719 0.3591872 ]\n",
      " [0.         0.         0.         0.        ]\n",
      " [0.         0.         0.         0.        ]\n",
      " [0.54731901 0.52345891 0.71918972 0.3624874 ]\n",
      " [0.71886881 0.87652898 0.71414464 0.69238859]\n",
      " [0.         0.         0.         0.        ]]\n"
     ]
    }
   ],
   "source": [
    "print(q_table)"
   ]
  },
  {
   "cell_type": "code",
   "execution_count": 14,
   "metadata": {},
   "outputs": [
    {
     "name": "stdout",
     "output_type": "stream",
     "text": [
      "  (Right)\n",
      "SFFF\n",
      "FHF\u001b[41mH\u001b[0m\n",
      "FFFH\n",
      "HFFG\n",
      "***** you entered hole *****\n"
     ]
    }
   ],
   "source": [
    "for episode in range(4):\n",
    "    state = env.reset()\n",
    "    done = False\n",
    "    print('***** episode  ',episode+1,' *****')\n",
    "    time.sleep(1)\n",
    "    for step in range(max_steps_per_episode):\n",
    "        clear_output(wait = True)\n",
    "        env.render()\n",
    "        time.sleep(0.3)\n",
    "        action = np.argmax(q_table[state,:])\n",
    "        new_state, reward, done, info = env.step(action)\n",
    "        if done:\n",
    "            clear_output(wait = True)\n",
    "            env.render()\n",
    "            if reward == 1:\n",
    "                print('***** you reached goal *****')\n",
    "                time.sleep(1)\n",
    "            else:\n",
    "                print('***** you entered hole *****')\n",
    "                time.sleep(1)\n",
    "                \n",
    "            clear_output(wait = True)\n",
    "            \n",
    "            break\n",
    "        state = new_state\n",
    "env.close()"
   ]
  },
  {
   "cell_type": "code",
   "execution_count": 11,
   "metadata": {},
   "outputs": [
    {
     "name": "stdout",
     "output_type": "stream",
     "text": [
      "hello\n"
     ]
    }
   ],
   "source": []
  },
  {
   "cell_type": "code",
   "execution_count": null,
   "metadata": {},
   "outputs": [],
   "source": []
  }
 ],
 "metadata": {
  "kernelspec": {
   "display_name": "Python 3",
   "language": "python",
   "name": "python3"
  },
  "language_info": {
   "codemirror_mode": {
    "name": "ipython",
    "version": 3
   },
   "file_extension": ".py",
   "mimetype": "text/x-python",
   "name": "python",
   "nbconvert_exporter": "python",
   "pygments_lexer": "ipython3",
   "version": "3.7.4"
  }
 },
 "nbformat": 4,
 "nbformat_minor": 2
}
