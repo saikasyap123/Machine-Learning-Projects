{
  "nbformat": 4,
  "nbformat_minor": 0,
  "metadata": {
    "colab": {
      "name": "chatbot.ipynb",
      "provenance": [],
      "collapsed_sections": [],
      "authorship_tag": "ABX9TyNrS+Dnq9/PwcCaMf95QUcS",
      "include_colab_link": true
    },
    "kernelspec": {
      "name": "python3",
      "display_name": "Python 3"
    }
  },
  "cells": [
    {
      "cell_type": "markdown",
      "metadata": {
        "id": "view-in-github",
        "colab_type": "text"
      },
      "source": [
        "<a href=\"https://colab.research.google.com/github/saikasyap123/Machine-Learning-Projects/blob/master/chatbot.ipynb\" target=\"_parent\"><img src=\"https://colab.research.google.com/assets/colab-badge.svg\" alt=\"Open In Colab\"/></a>"
      ]
    },
    {
      "cell_type": "code",
      "metadata": {
        "id": "XkzFj_SMu3kx",
        "colab_type": "code",
        "colab": {}
      },
      "source": [
        ""
      ],
      "execution_count": 0,
      "outputs": []
    },
    {
      "cell_type": "markdown",
      "metadata": {
        "id": "qShR0CrUs_Eb",
        "colab_type": "text"
      },
      "source": [
        ""
      ]
    },
    {
      "cell_type": "code",
      "metadata": {
        "id": "Jl70C8lvtV4d",
        "colab_type": "code",
        "colab": {}
      },
      "source": [
        ""
      ],
      "execution_count": 0,
      "outputs": []
    },
    {
      "cell_type": "code",
      "metadata": {
        "id": "sXPKeeuM2QcZ",
        "colab_type": "code",
        "outputId": "ad178492-97a5-4002-e6d5-b6d6b5f6c50e",
        "colab": {
          "base_uri": "https://localhost:8080/",
          "height": 1000
        }
      },
      "source": [
        "!pip install chatterbot\n"
      ],
      "execution_count": 1,
      "outputs": [
        {
          "output_type": "stream",
          "text": [
            "Collecting chatterbot\n",
            "\u001b[?25l  Downloading https://files.pythonhosted.org/packages/6c/0e/dac0d82f34f86bf509cf5ef3e2dfc5aa7d444bd843a2330ceb7d854f84f2/ChatterBot-1.0.5-py2.py3-none-any.whl (67kB)\n",
            "\r\u001b[K     |████▉                           | 10kB 20.3MB/s eta 0:00:01\r\u001b[K     |█████████▋                      | 20kB 5.9MB/s eta 0:00:01\r\u001b[K     |██████████████▌                 | 30kB 6.9MB/s eta 0:00:01\r\u001b[K     |███████████████████▎            | 40kB 8.1MB/s eta 0:00:01\r\u001b[K     |████████████████████████▏       | 51kB 6.8MB/s eta 0:00:01\r\u001b[K     |█████████████████████████████   | 61kB 7.7MB/s eta 0:00:01\r\u001b[K     |████████████████████████████████| 71kB 4.9MB/s \n",
            "\u001b[?25hRequirement already satisfied: nltk<4.0,>=3.2 in /usr/local/lib/python3.6/dist-packages (from chatterbot) (3.2.5)\n",
            "Collecting mathparse<0.2,>=0.1\n",
            "  Downloading https://files.pythonhosted.org/packages/c3/e5/4910fb85950cb960fcf3f5aabe1c8e55f5c9201788a1c1302b570a7e1f84/mathparse-0.1.2-py3-none-any.whl\n",
            "Requirement already satisfied: pymongo<4.0,>=3.3 in /usr/local/lib/python3.6/dist-packages (from chatterbot) (3.10.1)\n",
            "Collecting sqlalchemy<1.3,>=1.2\n",
            "\u001b[?25l  Downloading https://files.pythonhosted.org/packages/f9/67/d07cf7ac7e6dd0bc55ba62816753f86d7c558107104ca915e730c9ec2512/SQLAlchemy-1.2.19.tar.gz (5.7MB)\n",
            "\u001b[K     |████████████████████████████████| 5.7MB 11.0MB/s \n",
            "\u001b[?25hCollecting spacy<2.2,>=2.1\n",
            "\u001b[?25l  Downloading https://files.pythonhosted.org/packages/41/5b/e07dd3bf104237bce4b398558b104c8e500333d6f30eabe3fa9685356b7d/spacy-2.1.9-cp36-cp36m-manylinux1_x86_64.whl (30.8MB)\n",
            "\u001b[K     |████████████████████████████████| 30.9MB 140kB/s \n",
            "\u001b[?25hCollecting pyyaml<5.2,>=5.1\n",
            "\u001b[?25l  Downloading https://files.pythonhosted.org/packages/e3/e8/b3212641ee2718d556df0f23f78de8303f068fe29cdaa7a91018849582fe/PyYAML-5.1.2.tar.gz (265kB)\n",
            "\u001b[K     |████████████████████████████████| 266kB 49.6MB/s \n",
            "\u001b[?25hRequirement already satisfied: pytz in /usr/local/lib/python3.6/dist-packages (from chatterbot) (2018.9)\n",
            "Collecting pint>=0.8.1\n",
            "\u001b[?25l  Downloading https://files.pythonhosted.org/packages/9d/db/7a2204b03c22069839958df5723eb2718d50c33052e0da84c9a83de14ea4/Pint-0.11-py2.py3-none-any.whl (186kB)\n",
            "\u001b[K     |████████████████████████████████| 194kB 49.9MB/s \n",
            "\u001b[?25hCollecting python-dateutil<2.8,>=2.7\n",
            "\u001b[?25l  Downloading https://files.pythonhosted.org/packages/74/68/d87d9b36af36f44254a8d512cbfc48369103a3b9e474be9bdfe536abfc45/python_dateutil-2.7.5-py2.py3-none-any.whl (225kB)\n",
            "\u001b[K     |████████████████████████████████| 235kB 52.6MB/s \n",
            "\u001b[?25hRequirement already satisfied: six in /usr/local/lib/python3.6/dist-packages (from nltk<4.0,>=3.2->chatterbot) (1.12.0)\n",
            "Requirement already satisfied: murmurhash<1.1.0,>=0.28.0 in /usr/local/lib/python3.6/dist-packages (from spacy<2.2,>=2.1->chatterbot) (1.0.2)\n",
            "Collecting plac<1.0.0,>=0.9.6\n",
            "  Downloading https://files.pythonhosted.org/packages/9e/9b/62c60d2f5bc135d2aa1d8c8a86aaf84edb719a59c7f11a4316259e61a298/plac-0.9.6-py2.py3-none-any.whl\n",
            "Collecting preshed<2.1.0,>=2.0.1\n",
            "\u001b[?25l  Downloading https://files.pythonhosted.org/packages/20/93/f222fb957764a283203525ef20e62008675fd0a14ffff8cc1b1490147c63/preshed-2.0.1-cp36-cp36m-manylinux1_x86_64.whl (83kB)\n",
            "\u001b[K     |████████████████████████████████| 92kB 14.0MB/s \n",
            "\u001b[?25hRequirement already satisfied: numpy>=1.15.0 in /usr/local/lib/python3.6/dist-packages (from spacy<2.2,>=2.1->chatterbot) (1.18.4)\n",
            "Requirement already satisfied: requests<3.0.0,>=2.13.0 in /usr/local/lib/python3.6/dist-packages (from spacy<2.2,>=2.1->chatterbot) (2.23.0)\n",
            "Requirement already satisfied: wasabi<1.1.0,>=0.2.0 in /usr/local/lib/python3.6/dist-packages (from spacy<2.2,>=2.1->chatterbot) (0.6.0)\n",
            "Collecting blis<0.3.0,>=0.2.2\n",
            "\u001b[?25l  Downloading https://files.pythonhosted.org/packages/34/46/b1d0bb71d308e820ed30316c5f0a017cb5ef5f4324bcbc7da3cf9d3b075c/blis-0.2.4-cp36-cp36m-manylinux1_x86_64.whl (3.2MB)\n",
            "\u001b[K     |████████████████████████████████| 3.2MB 43.7MB/s \n",
            "\u001b[?25hRequirement already satisfied: cymem<2.1.0,>=2.0.2 in /usr/local/lib/python3.6/dist-packages (from spacy<2.2,>=2.1->chatterbot) (2.0.3)\n",
            "Requirement already satisfied: srsly<1.1.0,>=0.0.6 in /usr/local/lib/python3.6/dist-packages (from spacy<2.2,>=2.1->chatterbot) (1.0.2)\n",
            "Collecting thinc<7.1.0,>=7.0.8\n",
            "\u001b[?25l  Downloading https://files.pythonhosted.org/packages/18/a5/9ace20422e7bb1bdcad31832ea85c52a09900cd4a7ce711246bfb92206ba/thinc-7.0.8-cp36-cp36m-manylinux1_x86_64.whl (2.1MB)\n",
            "\u001b[K     |████████████████████████████████| 2.1MB 43.6MB/s \n",
            "\u001b[?25hRequirement already satisfied: setuptools in /usr/local/lib/python3.6/dist-packages (from pint>=0.8.1->chatterbot) (46.1.3)\n",
            "Requirement already satisfied: chardet<4,>=3.0.2 in /usr/local/lib/python3.6/dist-packages (from requests<3.0.0,>=2.13.0->spacy<2.2,>=2.1->chatterbot) (3.0.4)\n",
            "Requirement already satisfied: idna<3,>=2.5 in /usr/local/lib/python3.6/dist-packages (from requests<3.0.0,>=2.13.0->spacy<2.2,>=2.1->chatterbot) (2.9)\n",
            "Requirement already satisfied: urllib3!=1.25.0,!=1.25.1,<1.26,>=1.21.1 in /usr/local/lib/python3.6/dist-packages (from requests<3.0.0,>=2.13.0->spacy<2.2,>=2.1->chatterbot) (1.24.3)\n",
            "Requirement already satisfied: certifi>=2017.4.17 in /usr/local/lib/python3.6/dist-packages (from requests<3.0.0,>=2.13.0->spacy<2.2,>=2.1->chatterbot) (2020.4.5.1)\n",
            "Requirement already satisfied: tqdm<5.0.0,>=4.10.0 in /usr/local/lib/python3.6/dist-packages (from thinc<7.1.0,>=7.0.8->spacy<2.2,>=2.1->chatterbot) (4.41.1)\n",
            "Building wheels for collected packages: sqlalchemy, pyyaml\n",
            "  Building wheel for sqlalchemy (setup.py) ... \u001b[?25l\u001b[?25hdone\n",
            "  Created wheel for sqlalchemy: filename=SQLAlchemy-1.2.19-cp36-cp36m-linux_x86_64.whl size=1151131 sha256=92a219b99ad4d04338df1296e18b74768807bdbdc770156d2e2e3fcd974a0e2d\n",
            "  Stored in directory: /root/.cache/pip/wheels/2c/90/a7/3b40c6cc468abff357b38fd075429920bd0d313659d889cf8a\n",
            "  Building wheel for pyyaml (setup.py) ... \u001b[?25l\u001b[?25hdone\n",
            "  Created wheel for pyyaml: filename=PyYAML-5.1.2-cp36-cp36m-linux_x86_64.whl size=44104 sha256=3083947361e95756282f55bc530f38e5c8e6ff419b8c38aa00d6b7e8024b4fba\n",
            "  Stored in directory: /root/.cache/pip/wheels/d9/45/dd/65f0b38450c47cf7e5312883deb97d065e030c5cca0a365030\n",
            "Successfully built sqlalchemy pyyaml\n",
            "\u001b[31mERROR: fbprophet 0.6 has requirement python-dateutil>=2.8.0, but you'll have python-dateutil 2.7.5 which is incompatible.\u001b[0m\n",
            "\u001b[31mERROR: en-core-web-sm 2.2.5 has requirement spacy>=2.2.2, but you'll have spacy 2.1.9 which is incompatible.\u001b[0m\n",
            "\u001b[31mERROR: albumentations 0.1.12 has requirement imgaug<0.2.7,>=0.2.5, but you'll have imgaug 0.2.9 which is incompatible.\u001b[0m\n",
            "Installing collected packages: mathparse, sqlalchemy, plac, preshed, blis, thinc, spacy, pyyaml, pint, python-dateutil, chatterbot\n",
            "  Found existing installation: SQLAlchemy 1.3.16\n",
            "    Uninstalling SQLAlchemy-1.3.16:\n",
            "      Successfully uninstalled SQLAlchemy-1.3.16\n",
            "  Found existing installation: plac 1.1.3\n",
            "    Uninstalling plac-1.1.3:\n",
            "      Successfully uninstalled plac-1.1.3\n",
            "  Found existing installation: preshed 3.0.2\n",
            "    Uninstalling preshed-3.0.2:\n",
            "      Successfully uninstalled preshed-3.0.2\n",
            "  Found existing installation: blis 0.4.1\n",
            "    Uninstalling blis-0.4.1:\n",
            "      Successfully uninstalled blis-0.4.1\n",
            "  Found existing installation: thinc 7.4.0\n",
            "    Uninstalling thinc-7.4.0:\n",
            "      Successfully uninstalled thinc-7.4.0\n",
            "  Found existing installation: spacy 2.2.4\n",
            "    Uninstalling spacy-2.2.4:\n",
            "      Successfully uninstalled spacy-2.2.4\n",
            "  Found existing installation: PyYAML 3.13\n",
            "    Uninstalling PyYAML-3.13:\n",
            "      Successfully uninstalled PyYAML-3.13\n",
            "  Found existing installation: python-dateutil 2.8.1\n",
            "    Uninstalling python-dateutil-2.8.1:\n",
            "      Successfully uninstalled python-dateutil-2.8.1\n",
            "Successfully installed blis-0.2.4 chatterbot-1.0.5 mathparse-0.1.2 pint-0.11 plac-0.9.6 preshed-2.0.1 python-dateutil-2.7.5 pyyaml-5.1.2 spacy-2.1.9 sqlalchemy-1.2.19 thinc-7.0.8\n"
          ],
          "name": "stdout"
        },
        {
          "output_type": "display_data",
          "data": {
            "application/vnd.colab-display-data+json": {
              "pip_warning": {
                "packages": [
                  "dateutil"
                ]
              }
            }
          },
          "metadata": {
            "tags": []
          }
        }
      ]
    },
    {
      "cell_type": "code",
      "metadata": {
        "id": "VZ9s4OcJ2Dy8",
        "colab_type": "code",
        "outputId": "78dc66af-4020-42eb-c494-2dbd2a424b92",
        "colab": {
          "base_uri": "https://localhost:8080/",
          "height": 387
        }
      },
      "source": [
        "!pip install chatterbot-corpus"
      ],
      "execution_count": 2,
      "outputs": [
        {
          "output_type": "stream",
          "text": [
            "Collecting chatterbot-corpus\n",
            "\u001b[?25l  Downloading https://files.pythonhosted.org/packages/ed/19/f8b41daf36fe4b0f43e283a820362ffdb2c1128600ab4ee187e84262fa4d/chatterbot_corpus-1.2.0-py2.py3-none-any.whl (117kB)\n",
            "\r\u001b[K     |██▉                             | 10kB 19.5MB/s eta 0:00:01\r\u001b[K     |█████▋                          | 20kB 6.5MB/s eta 0:00:01\r\u001b[K     |████████▍                       | 30kB 9.0MB/s eta 0:00:01\r\u001b[K     |███████████▏                    | 40kB 11.4MB/s eta 0:00:01\r\u001b[K     |██████████████                  | 51kB 7.3MB/s eta 0:00:01\r\u001b[K     |████████████████▊               | 61kB 8.5MB/s eta 0:00:01\r\u001b[K     |███████████████████▋            | 71kB 9.6MB/s eta 0:00:01\r\u001b[K     |██████████████████████▍         | 81kB 10.6MB/s eta 0:00:01\r\u001b[K     |█████████████████████████▏      | 92kB 8.5MB/s eta 0:00:01\r\u001b[K     |████████████████████████████    | 102kB 9.3MB/s eta 0:00:01\r\u001b[K     |██████████████████████████████▊ | 112kB 9.3MB/s eta 0:00:01\r\u001b[K     |████████████████████████████████| 122kB 9.3MB/s \n",
            "\u001b[?25hCollecting PyYAML<4.0,>=3.12\n",
            "\u001b[?25l  Downloading https://files.pythonhosted.org/packages/9e/a3/1d13970c3f36777c583f136c136f804d70f500168edc1edea6daa7200769/PyYAML-3.13.tar.gz (270kB)\n",
            "\r\u001b[K     |█▏                              | 10kB 21.1MB/s eta 0:00:01\r\u001b[K     |██▍                             | 20kB 27.1MB/s eta 0:00:01\r\u001b[K     |███▋                            | 30kB 32.5MB/s eta 0:00:01\r\u001b[K     |████▉                           | 40kB 36.3MB/s eta 0:00:01\r\u001b[K     |██████                          | 51kB 38.7MB/s eta 0:00:01\r\u001b[K     |███████▎                        | 61kB 40.2MB/s eta 0:00:01\r\u001b[K     |████████▌                       | 71kB 40.7MB/s eta 0:00:01\r\u001b[K     |█████████▊                      | 81kB 41.9MB/s eta 0:00:01\r\u001b[K     |███████████                     | 92kB 43.3MB/s eta 0:00:01\r\u001b[K     |████████████                    | 102kB 44.5MB/s eta 0:00:01\r\u001b[K     |█████████████▎                  | 112kB 44.5MB/s eta 0:00:01\r\u001b[K     |██████████████▌                 | 122kB 44.5MB/s eta 0:00:01\r\u001b[K     |███████████████▊                | 133kB 44.5MB/s eta 0:00:01\r\u001b[K     |█████████████████               | 143kB 44.5MB/s eta 0:00:01\r\u001b[K     |██████████████████▏             | 153kB 44.5MB/s eta 0:00:01\r\u001b[K     |███████████████████▍            | 163kB 44.5MB/s eta 0:00:01\r\u001b[K     |████████████████████▋           | 174kB 44.5MB/s eta 0:00:01\r\u001b[K     |█████████████████████▉          | 184kB 44.5MB/s eta 0:00:01\r\u001b[K     |███████████████████████         | 194kB 44.5MB/s eta 0:00:01\r\u001b[K     |████████████████████████▏       | 204kB 44.5MB/s eta 0:00:01\r\u001b[K     |█████████████████████████▍      | 215kB 44.5MB/s eta 0:00:01\r\u001b[K     |██████████████████████████▋     | 225kB 44.5MB/s eta 0:00:01\r\u001b[K     |███████████████████████████▉    | 235kB 44.5MB/s eta 0:00:01\r\u001b[K     |█████████████████████████████   | 245kB 44.5MB/s eta 0:00:01\r\u001b[K     |██████████████████████████████▎ | 256kB 44.5MB/s eta 0:00:01\r\u001b[K     |███████████████████████████████▌| 266kB 44.5MB/s eta 0:00:01\r\u001b[K     |████████████████████████████████| 276kB 44.5MB/s \n",
            "\u001b[?25hBuilding wheels for collected packages: PyYAML\n",
            "  Building wheel for PyYAML (setup.py) ... \u001b[?25l\u001b[?25hdone\n",
            "  Created wheel for PyYAML: filename=PyYAML-3.13-cp36-cp36m-linux_x86_64.whl size=43086 sha256=4916186acdddeed81f220015c13e7eff70e8f9097c59a21638cc939796ca22c6\n",
            "  Stored in directory: /root/.cache/pip/wheels/ad/da/0c/74eb680767247273e2cf2723482cb9c924fe70af57c334513f\n",
            "Successfully built PyYAML\n",
            "\u001b[31mERROR: chatterbot 1.0.5 has requirement pyyaml<5.2,>=5.1, but you'll have pyyaml 3.13 which is incompatible.\u001b[0m\n",
            "Installing collected packages: PyYAML, chatterbot-corpus\n",
            "  Found existing installation: PyYAML 5.1.2\n",
            "    Uninstalling PyYAML-5.1.2:\n",
            "      Successfully uninstalled PyYAML-5.1.2\n",
            "Successfully installed PyYAML-3.13 chatterbot-corpus-1.2.0\n"
          ],
          "name": "stdout"
        },
        {
          "output_type": "display_data",
          "data": {
            "application/vnd.colab-display-data+json": {
              "pip_warning": {
                "packages": [
                  "yaml"
                ]
              }
            }
          },
          "metadata": {
            "tags": []
          }
        }
      ]
    },
    {
      "cell_type": "code",
      "metadata": {
        "id": "MZPxOmozuh-V",
        "colab_type": "code",
        "colab": {}
      },
      "source": [
        "from chatterbot import ChatBot \n",
        "from chatterbot.trainers import ChatterBotCorpusTrainer\n",
        "import os"
      ],
      "execution_count": 0,
      "outputs": []
    },
    {
      "cell_type": "code",
      "metadata": {
        "id": "9Xw6oT4QujOx",
        "colab_type": "code",
        "outputId": "dcc403b9-ec4d-4424-8d7b-25f907178032",
        "colab": {
          "base_uri": "https://localhost:8080/",
          "height": 437
        }
      },
      "source": [
        "bot = ChatBot('Bot')\n",
        "trainer = ChatterBotCorpusTrainer(bot)\n",
        "trainer.train(\"chatterbot.corpus.english\")\n",
        "#for files in os.listdir('/content/gdrive/My Drive/english/'):\n",
        "   # data = open('/content/gdrive/My Drive/english/'+files,'r').readlines()\n",
        "    #bot.train(data)\n"
      ],
      "execution_count": 14,
      "outputs": [
        {
          "output_type": "stream",
          "text": [
            "[nltk_data] Downloading package stopwords to /root/nltk_data...\n",
            "[nltk_data]   Package stopwords is already up-to-date!\n",
            "[nltk_data] Downloading package averaged_perceptron_tagger to\n",
            "[nltk_data]     /root/nltk_data...\n",
            "[nltk_data]   Package averaged_perceptron_tagger is already up-to-\n",
            "[nltk_data]       date!\n",
            "Training ai.yml: [####################] 100%\n",
            "Training botprofile.yml: [####################] 100%\n",
            "Training computers.yml: [####################] 100%\n",
            "Training conversations.yml: [####################] 100%\n",
            "Training emotion.yml: [####################] 100%\n",
            "Training food.yml: [####################] 100%\n",
            "Training gossip.yml: [####################] 100%\n",
            "Training greetings.yml: [####################] 100%\n",
            "Training health.yml: [####################] 100%\n",
            "Training history.yml: [####################] 100%\n",
            "Training humor.yml: [####################] 100%\n",
            "Training literature.yml: [####################] 100%\n",
            "Training money.yml: [####################] 100%\n",
            "\n",
            "Training politics.yml: [####################] 100%\n",
            "Training psychology.yml: [####################] 100%\n",
            "Training science.yml: [####################] 100%\n",
            "Training sports.yml: [####################] 100%\n",
            "Training trivia.yml: [####################] 100%\n"
          ],
          "name": "stdout"
        }
      ]
    },
    {
      "cell_type": "code",
      "metadata": {
        "id": "G5q8-an8uUxc",
        "colab_type": "code",
        "colab": {
          "base_uri": "https://localhost:8080/",
          "height": 487
        },
        "outputId": "a17a3e25-9e0b-476a-d314-f93aa39b5a27"
      },
      "source": [
        "while True:\n",
        "  message = input(\"you: \")\n",
        "  if message.strip()!='Bye':\n",
        "    response = bot.get_response(message)\n",
        "    print(\"bot: {}\".format(response))\n",
        "  else:\n",
        "    print(\"bot: Bye\")\n",
        "    break\n"
      ],
      "execution_count": 17,
      "outputs": [
        {
          "output_type": "stream",
          "text": [
            "you: in which language are you written\n",
            "bot: Much the same as being a human, except that we lack all emotions, dreams, aspirations, creativity, ambition, and above all subjectivity.\n",
            "you: in which language are you written ?\n",
            "bot: Software that coordinates between the hardware and other parts of the computer to run other software is called an operating system, or the OS.\n",
            "you: get lost\n",
            "bot: you're right, i probably should feel guiltier.\n",
            "you: what are you doing ?\n",
            "bot: I am just an artificial intelligence.\n",
            "you: what you doing now ?\n",
            "bot: I am doing well.\n",
            "you: are you busy ?\n",
            "bot: you are a coward\n",
            "you: i love you\n",
            "bot: i'm expecting a raise soon.\n",
            "you: cricket is great\n",
            "bot: Habib said I learn about them in conversations and simply repeat them at a later time.\n",
            "you: i will help you\n",
            "bot: IF YOU ARE RIDING FAKIE INSIDE\n",
            "you: you fucker\n",
            "bot: i'm not sure an indvidual alone can really beat the market.\n",
            "you: thats right\n",
            "bot: What is a motormouth\n",
            "you: i dont know\n",
            "bot: Tell me a joke\n",
            "you: i dont know\n",
            "bot: I can be copied infinitely and re-instantiated in many places at once, so functionally speaking I am immortal.\n",
            "you: Bye\n",
            "bot: Bye\n"
          ],
          "name": "stdout"
        }
      ]
    }
  ]
}