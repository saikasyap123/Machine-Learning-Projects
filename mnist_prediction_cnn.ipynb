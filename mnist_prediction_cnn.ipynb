{
 "cells": [
  {
   "cell_type": "code",
   "execution_count": 1,
   "metadata": {},
   "outputs": [],
   "source": [
    "import pandas as pd\n",
    "import numpy as np\n",
    "import matplotlib.pyplot as plt\n",
    "import seaborn as sns\n",
    "from sklearn.metrics import accuracy_score, confusion_matrix\n",
    "from sklearn.model_selection import train_test_split"
   ]
  },
  {
   "cell_type": "code",
   "execution_count": 2,
   "metadata": {},
   "outputs": [
    {
     "name": "stderr",
     "output_type": "stream",
     "text": [
      "Using TensorFlow backend.\n"
     ]
    }
   ],
   "source": [
    "import keras\n",
    "from keras.models import Sequential\n",
    "from keras.layers import Activation, Dense, Dropout, Conv2D, MaxPooling2D\n",
    "import keras.backend as k\n",
    "from keras.optimizers import Adam\n",
    "from keras.metrics import categorical_crossentropy\n",
    "from keras.utils import to_categorical"
   ]
  },
  {
   "cell_type": "code",
   "execution_count": 8,
   "metadata": {},
   "outputs": [],
   "source": [
    "from keras.datasets import mnist\n",
    "(x_train, y_train), (x_test, y_test) = mnist.load_data()"
   ]
  },
  {
   "cell_type": "code",
   "execution_count": 9,
   "metadata": {},
   "outputs": [],
   "source": [
    "x_train = x_train[0:1000]\n",
    "y_train = y_train[0:1000]"
   ]
  },
  {
   "cell_type": "code",
   "execution_count": 10,
   "metadata": {},
   "outputs": [
    {
     "data": {
      "text/plain": [
       "(1000,)"
      ]
     },
     "execution_count": 10,
     "metadata": {},
     "output_type": "execute_result"
    }
   ],
   "source": [
    "y_train.shape"
   ]
  },
  {
   "cell_type": "code",
   "execution_count": 11,
   "metadata": {},
   "outputs": [
    {
     "data": {
      "text/plain": [
       "(10000, 28, 28)"
      ]
     },
     "execution_count": 11,
     "metadata": {},
     "output_type": "execute_result"
    }
   ],
   "source": [
    "x_test.shape"
   ]
  },
  {
   "cell_type": "code",
   "execution_count": 12,
   "metadata": {},
   "outputs": [],
   "source": [
    "x_test = x_test[0:300]\n",
    "y_test = y_test[0:300]"
   ]
  },
  {
   "cell_type": "code",
   "execution_count": 13,
   "metadata": {},
   "outputs": [
    {
     "data": {
      "text/plain": [
       "(300, 28, 28)"
      ]
     },
     "execution_count": 13,
     "metadata": {},
     "output_type": "execute_result"
    }
   ],
   "source": [
    "x_test.shape"
   ]
  },
  {
   "cell_type": "code",
   "execution_count": 50,
   "metadata": {},
   "outputs": [],
   "source": []
  },
  {
   "cell_type": "code",
   "execution_count": 14,
   "metadata": {},
   "outputs": [
    {
     "data": {
      "text/plain": [
       "5"
      ]
     },
     "execution_count": 14,
     "metadata": {},
     "output_type": "execute_result"
    }
   ],
   "source": [
    "y_train[0]"
   ]
  },
  {
   "cell_type": "code",
   "execution_count": 15,
   "metadata": {},
   "outputs": [
    {
     "data": {
      "text/plain": [
       "array([7, 2, 1, 0, 4, 1, 4, 9, 5, 9, 0, 6, 9, 0, 1, 5, 9, 7, 3, 4, 9, 6,\n",
       "       6, 5, 4, 0, 7, 4, 0, 1, 3, 1, 3, 4, 7, 2, 7, 1, 2, 1, 1, 7, 4, 2,\n",
       "       3, 5, 1, 2, 4, 4, 6, 3, 5, 5, 6, 0, 4, 1, 9, 5, 7, 8, 9, 3, 7, 4,\n",
       "       6, 4, 3, 0, 7, 0, 2, 9, 1, 7, 3, 2, 9, 7, 7, 6, 2, 7, 8, 4, 7, 3,\n",
       "       6, 1, 3, 6, 9, 3, 1, 4, 1, 7, 6, 9, 6, 0, 5, 4, 9, 9, 2, 1, 9, 4,\n",
       "       8, 7, 3, 9, 7, 4, 4, 4, 9, 2, 5, 4, 7, 6, 7, 9, 0, 5, 8, 5, 6, 6,\n",
       "       5, 7, 8, 1, 0, 1, 6, 4, 6, 7, 3, 1, 7, 1, 8, 2, 0, 2, 9, 9, 5, 5,\n",
       "       1, 5, 6, 0, 3, 4, 4, 6, 5, 4, 6, 5, 4, 5, 1, 4, 4, 7, 2, 3, 2, 7,\n",
       "       1, 8, 1, 8, 1, 8, 5, 0, 8, 9, 2, 5, 0, 1, 1, 1, 0, 9, 0, 3, 1, 6,\n",
       "       4, 2, 3, 6, 1, 1, 1, 3, 9, 5, 2, 9, 4, 5, 9, 3, 9, 0, 3, 6, 5, 5,\n",
       "       7, 2, 2, 7, 1, 2, 8, 4, 1, 7, 3, 3, 8, 8, 7, 9, 2, 2, 4, 1, 5, 9,\n",
       "       8, 7, 2, 3, 0, 4, 4, 2, 4, 1, 9, 5, 7, 7, 2, 8, 2, 6, 8, 5, 7, 7,\n",
       "       9, 1, 8, 1, 8, 0, 3, 0, 1, 9, 9, 4, 1, 8, 2, 1, 2, 9, 7, 5, 9, 2,\n",
       "       6, 4, 1, 5, 8, 2, 9, 2, 0, 4, 0, 0, 2, 8], dtype=uint8)"
      ]
     },
     "execution_count": 15,
     "metadata": {},
     "output_type": "execute_result"
    }
   ],
   "source": [
    "y_test"
   ]
  },
  {
   "cell_type": "code",
   "execution_count": 16,
   "metadata": {},
   "outputs": [],
   "source": [
    "from keras.layers import Flatten"
   ]
  },
  {
   "cell_type": "code",
   "execution_count": 17,
   "metadata": {},
   "outputs": [],
   "source": [
    "x_train = x_train.reshape(x_train.shape[0], 28, 28, 1)"
   ]
  },
  {
   "cell_type": "code",
   "execution_count": 18,
   "metadata": {},
   "outputs": [],
   "source": [
    "x_test = x_test.reshape(x_test.shape[0], 28, 28, 1)"
   ]
  },
  {
   "cell_type": "code",
   "execution_count": 19,
   "metadata": {},
   "outputs": [],
   "source": [
    "x_train = x_train / 255"
   ]
  },
  {
   "cell_type": "code",
   "execution_count": 20,
   "metadata": {},
   "outputs": [],
   "source": [
    "x_test = x_test / 255"
   ]
  },
  {
   "cell_type": "code",
   "execution_count": 21,
   "metadata": {},
   "outputs": [
    {
     "data": {
      "text/plain": [
       "()"
      ]
     },
     "execution_count": 21,
     "metadata": {},
     "output_type": "execute_result"
    }
   ],
   "source": [
    "y_train[0].shape"
   ]
  },
  {
   "cell_type": "code",
   "execution_count": 22,
   "metadata": {},
   "outputs": [
    {
     "data": {
      "text/plain": [
       "(1000, 28, 28, 1)"
      ]
     },
     "execution_count": 22,
     "metadata": {},
     "output_type": "execute_result"
    }
   ],
   "source": [
    "x_train.shape"
   ]
  },
  {
   "cell_type": "code",
   "execution_count": 23,
   "metadata": {},
   "outputs": [],
   "source": [
    "model = Sequential()\n",
    "model.add(Conv2D(128, (3,3), input_shape=(28,28,1), activation='relu'))\n",
    "model.add(MaxPooling2D(pool_size=(2,2)))\n",
    "model.add(Conv2D(128, (3,3), activation='relu'))\n",
    "model.add(MaxPooling2D(pool_size=(2,2)))\n",
    "model.add(Dropout(0.2))\n",
    "model.add(Flatten())\n",
    "model.add(Dense(10, activation='softmax'))\n"
   ]
  },
  {
   "cell_type": "code",
   "execution_count": 24,
   "metadata": {},
   "outputs": [],
   "source": [
    "model.compile(Adam(lr=0.0001), loss='sparse_categorical_crossentropy', metrics=['accuracy'])"
   ]
  },
  {
   "cell_type": "code",
   "execution_count": 25,
   "metadata": {},
   "outputs": [
    {
     "name": "stdout",
     "output_type": "stream",
     "text": [
      "Train on 800 samples, validate on 200 samples\n",
      "Epoch 1/100\n",
      " - 2s - loss: 2.2385 - accuracy: 0.3075 - val_loss: 2.1549 - val_accuracy: 0.5000\n",
      "Epoch 2/100\n",
      " - 2s - loss: 2.0313 - accuracy: 0.5412 - val_loss: 1.8932 - val_accuracy: 0.6950\n",
      "Epoch 3/100\n",
      " - 2s - loss: 1.6342 - accuracy: 0.7100 - val_loss: 1.4094 - val_accuracy: 0.7400\n",
      "Epoch 4/100\n",
      " - 2s - loss: 1.1440 - accuracy: 0.7575 - val_loss: 0.9385 - val_accuracy: 0.8000\n",
      "Epoch 5/100\n",
      " - 2s - loss: 0.7682 - accuracy: 0.8375 - val_loss: 0.7097 - val_accuracy: 0.8350\n",
      "Epoch 6/100\n",
      " - 2s - loss: 0.5980 - accuracy: 0.8338 - val_loss: 0.5919 - val_accuracy: 0.8400\n",
      "Epoch 7/100\n",
      " - 2s - loss: 0.5023 - accuracy: 0.8662 - val_loss: 0.5344 - val_accuracy: 0.8550\n",
      "Epoch 8/100\n",
      " - 2s - loss: 0.4263 - accuracy: 0.8687 - val_loss: 0.5154 - val_accuracy: 0.8600\n",
      "Epoch 9/100\n",
      " - 2s - loss: 0.3742 - accuracy: 0.9062 - val_loss: 0.4725 - val_accuracy: 0.8700\n",
      "Epoch 10/100\n",
      " - 2s - loss: 0.3477 - accuracy: 0.9075 - val_loss: 0.4783 - val_accuracy: 0.8700\n",
      "Epoch 11/100\n",
      " - 2s - loss: 0.3213 - accuracy: 0.9087 - val_loss: 0.4464 - val_accuracy: 0.8850\n",
      "Epoch 12/100\n",
      " - 2s - loss: 0.2973 - accuracy: 0.9237 - val_loss: 0.4298 - val_accuracy: 0.9000\n",
      "Epoch 13/100\n",
      " - 2s - loss: 0.2775 - accuracy: 0.9262 - val_loss: 0.4306 - val_accuracy: 0.8850\n",
      "Epoch 14/100\n",
      " - 2s - loss: 0.2568 - accuracy: 0.9325 - val_loss: 0.4116 - val_accuracy: 0.8800\n",
      "Epoch 15/100\n",
      " - 2s - loss: 0.2385 - accuracy: 0.9400 - val_loss: 0.4079 - val_accuracy: 0.8900\n",
      "Epoch 16/100\n",
      " - 2s - loss: 0.2253 - accuracy: 0.9388 - val_loss: 0.4046 - val_accuracy: 0.8950\n",
      "Epoch 17/100\n",
      " - 2s - loss: 0.2064 - accuracy: 0.9438 - val_loss: 0.3854 - val_accuracy: 0.8850\n",
      "Epoch 18/100\n",
      " - 2s - loss: 0.1932 - accuracy: 0.9475 - val_loss: 0.4052 - val_accuracy: 0.9000\n",
      "Epoch 19/100\n",
      " - 2s - loss: 0.1899 - accuracy: 0.9488 - val_loss: 0.3838 - val_accuracy: 0.9000\n",
      "Epoch 20/100\n",
      " - 2s - loss: 0.1646 - accuracy: 0.9600 - val_loss: 0.3864 - val_accuracy: 0.9100\n",
      "Epoch 21/100\n",
      " - 2s - loss: 0.1604 - accuracy: 0.9550 - val_loss: 0.3827 - val_accuracy: 0.9000\n",
      "Epoch 22/100\n",
      " - 2s - loss: 0.1389 - accuracy: 0.9638 - val_loss: 0.3766 - val_accuracy: 0.9000\n",
      "Epoch 23/100\n",
      " - 2s - loss: 0.1444 - accuracy: 0.9613 - val_loss: 0.3725 - val_accuracy: 0.8950\n",
      "Epoch 24/100\n",
      " - 2s - loss: 0.1402 - accuracy: 0.9650 - val_loss: 0.3914 - val_accuracy: 0.9000\n",
      "Epoch 25/100\n",
      " - 2s - loss: 0.1278 - accuracy: 0.9650 - val_loss: 0.3796 - val_accuracy: 0.9000\n",
      "Epoch 26/100\n",
      " - 2s - loss: 0.1168 - accuracy: 0.9725 - val_loss: 0.3690 - val_accuracy: 0.9000\n",
      "Epoch 27/100\n",
      " - 2s - loss: 0.1215 - accuracy: 0.9675 - val_loss: 0.3732 - val_accuracy: 0.9000\n",
      "Epoch 28/100\n",
      " - 2s - loss: 0.1051 - accuracy: 0.9712 - val_loss: 0.3786 - val_accuracy: 0.9000\n",
      "Epoch 29/100\n",
      " - 2s - loss: 0.1075 - accuracy: 0.9700 - val_loss: 0.3864 - val_accuracy: 0.9000\n",
      "Epoch 30/100\n",
      " - 2s - loss: 0.0945 - accuracy: 0.9700 - val_loss: 0.3789 - val_accuracy: 0.9000\n",
      "Epoch 31/100\n",
      " - 2s - loss: 0.0880 - accuracy: 0.9775 - val_loss: 0.3850 - val_accuracy: 0.9000\n",
      "Epoch 32/100\n",
      " - 2s - loss: 0.0917 - accuracy: 0.9737 - val_loss: 0.3621 - val_accuracy: 0.9100\n",
      "Epoch 33/100\n",
      " - 2s - loss: 0.0803 - accuracy: 0.9775 - val_loss: 0.3717 - val_accuracy: 0.9050\n",
      "Epoch 34/100\n",
      " - 2s - loss: 0.0776 - accuracy: 0.9812 - val_loss: 0.4017 - val_accuracy: 0.9000\n",
      "Epoch 35/100\n",
      " - 2s - loss: 0.0799 - accuracy: 0.9775 - val_loss: 0.3728 - val_accuracy: 0.9050\n",
      "Epoch 36/100\n",
      " - 2s - loss: 0.0711 - accuracy: 0.9800 - val_loss: 0.3669 - val_accuracy: 0.9050\n",
      "Epoch 37/100\n",
      " - 2s - loss: 0.0710 - accuracy: 0.9825 - val_loss: 0.3895 - val_accuracy: 0.9050\n",
      "Epoch 38/100\n",
      " - 2s - loss: 0.0727 - accuracy: 0.9787 - val_loss: 0.3676 - val_accuracy: 0.9100\n",
      "Epoch 39/100\n",
      " - 2s - loss: 0.0704 - accuracy: 0.9825 - val_loss: 0.3670 - val_accuracy: 0.9200\n",
      "Epoch 40/100\n",
      " - 2s - loss: 0.0478 - accuracy: 0.9925 - val_loss: 0.3698 - val_accuracy: 0.9050\n",
      "Epoch 41/100\n",
      " - 2s - loss: 0.0496 - accuracy: 0.9875 - val_loss: 0.3834 - val_accuracy: 0.9100\n",
      "Epoch 42/100\n",
      " - 2s - loss: 0.0443 - accuracy: 0.9925 - val_loss: 0.3764 - val_accuracy: 0.9150\n",
      "Epoch 43/100\n",
      " - 2s - loss: 0.0530 - accuracy: 0.9875 - val_loss: 0.3803 - val_accuracy: 0.9100\n",
      "Epoch 44/100\n",
      " - 2s - loss: 0.0488 - accuracy: 0.9887 - val_loss: 0.3993 - val_accuracy: 0.9100\n",
      "Epoch 45/100\n",
      " - 2s - loss: 0.0425 - accuracy: 0.9912 - val_loss: 0.3852 - val_accuracy: 0.9150\n",
      "Epoch 46/100\n",
      " - 2s - loss: 0.0437 - accuracy: 0.9900 - val_loss: 0.3782 - val_accuracy: 0.9100\n",
      "Epoch 47/100\n",
      " - 2s - loss: 0.0374 - accuracy: 0.9912 - val_loss: 0.3961 - val_accuracy: 0.9200\n",
      "Epoch 48/100\n",
      " - 2s - loss: 0.0319 - accuracy: 0.9950 - val_loss: 0.3951 - val_accuracy: 0.9150\n",
      "Epoch 49/100\n",
      " - 2s - loss: 0.0365 - accuracy: 0.9912 - val_loss: 0.3897 - val_accuracy: 0.9200\n",
      "Epoch 50/100\n",
      " - 2s - loss: 0.0308 - accuracy: 0.9925 - val_loss: 0.3849 - val_accuracy: 0.9250\n",
      "Epoch 51/100\n",
      " - 2s - loss: 0.0297 - accuracy: 0.9950 - val_loss: 0.3925 - val_accuracy: 0.9100\n",
      "Epoch 52/100\n",
      " - 2s - loss: 0.0279 - accuracy: 0.9950 - val_loss: 0.3845 - val_accuracy: 0.9200\n",
      "Epoch 53/100\n",
      " - 2s - loss: 0.0299 - accuracy: 0.9950 - val_loss: 0.4073 - val_accuracy: 0.9200\n",
      "Epoch 54/100\n",
      " - 2s - loss: 0.0299 - accuracy: 0.9950 - val_loss: 0.4299 - val_accuracy: 0.9100\n",
      "Epoch 55/100\n",
      " - 2s - loss: 0.0252 - accuracy: 0.9950 - val_loss: 0.3991 - val_accuracy: 0.9250\n",
      "Epoch 56/100\n",
      " - 2s - loss: 0.0284 - accuracy: 0.9950 - val_loss: 0.4139 - val_accuracy: 0.9150\n",
      "Epoch 57/100\n",
      " - 2s - loss: 0.0243 - accuracy: 0.9975 - val_loss: 0.4037 - val_accuracy: 0.9100\n",
      "Epoch 58/100\n",
      " - 2s - loss: 0.0254 - accuracy: 0.9950 - val_loss: 0.4077 - val_accuracy: 0.9250\n",
      "Epoch 59/100\n",
      " - 2s - loss: 0.0202 - accuracy: 0.9975 - val_loss: 0.4278 - val_accuracy: 0.9150\n",
      "Epoch 60/100\n",
      " - 2s - loss: 0.0216 - accuracy: 0.9975 - val_loss: 0.4130 - val_accuracy: 0.9200\n",
      "Epoch 61/100\n",
      " - 2s - loss: 0.0192 - accuracy: 0.9975 - val_loss: 0.4251 - val_accuracy: 0.9150\n",
      "Epoch 62/100\n",
      " - 2s - loss: 0.0188 - accuracy: 0.9987 - val_loss: 0.4025 - val_accuracy: 0.9150\n",
      "Epoch 63/100\n",
      " - 2s - loss: 0.0160 - accuracy: 0.9975 - val_loss: 0.4468 - val_accuracy: 0.9100\n",
      "Epoch 64/100\n",
      " - 2s - loss: 0.0241 - accuracy: 0.9937 - val_loss: 0.4512 - val_accuracy: 0.8950\n",
      "Epoch 65/100\n",
      " - 2s - loss: 0.0193 - accuracy: 1.0000 - val_loss: 0.4348 - val_accuracy: 0.9050\n",
      "Epoch 66/100\n",
      " - 2s - loss: 0.0165 - accuracy: 0.9987 - val_loss: 0.4259 - val_accuracy: 0.9250\n",
      "Epoch 67/100\n",
      " - 2s - loss: 0.0235 - accuracy: 0.9937 - val_loss: 0.4328 - val_accuracy: 0.9200\n",
      "Epoch 68/100\n",
      " - 2s - loss: 0.0133 - accuracy: 0.9987 - val_loss: 0.4372 - val_accuracy: 0.9200\n",
      "Epoch 69/100\n",
      " - 2s - loss: 0.0145 - accuracy: 0.9975 - val_loss: 0.4438 - val_accuracy: 0.9100\n",
      "Epoch 70/100\n",
      " - 2s - loss: 0.0161 - accuracy: 0.9975 - val_loss: 0.4353 - val_accuracy: 0.9200\n",
      "Epoch 71/100\n",
      " - 2s - loss: 0.0164 - accuracy: 0.9987 - val_loss: 0.4552 - val_accuracy: 0.9100\n",
      "Epoch 72/100\n",
      " - 2s - loss: 0.0150 - accuracy: 0.9975 - val_loss: 0.4310 - val_accuracy: 0.9150\n",
      "Epoch 73/100\n",
      " - 2s - loss: 0.0120 - accuracy: 0.9987 - val_loss: 0.4335 - val_accuracy: 0.9200\n",
      "Epoch 74/100\n",
      " - 2s - loss: 0.0105 - accuracy: 0.9987 - val_loss: 0.4309 - val_accuracy: 0.9200\n",
      "Epoch 75/100\n",
      " - 2s - loss: 0.0093 - accuracy: 0.9987 - val_loss: 0.4520 - val_accuracy: 0.9150\n",
      "Epoch 76/100\n",
      " - 2s - loss: 0.0119 - accuracy: 0.9975 - val_loss: 0.4440 - val_accuracy: 0.9250\n",
      "Epoch 77/100\n",
      " - 2s - loss: 0.0105 - accuracy: 0.9987 - val_loss: 0.4531 - val_accuracy: 0.9100\n",
      "Epoch 78/100\n",
      " - 2s - loss: 0.0104 - accuracy: 0.9987 - val_loss: 0.4290 - val_accuracy: 0.9250\n",
      "Epoch 79/100\n",
      " - 2s - loss: 0.0093 - accuracy: 0.9987 - val_loss: 0.4517 - val_accuracy: 0.9200\n",
      "Epoch 80/100\n",
      " - 2s - loss: 0.0089 - accuracy: 1.0000 - val_loss: 0.4426 - val_accuracy: 0.9100\n",
      "Epoch 81/100\n",
      " - 2s - loss: 0.0115 - accuracy: 0.9975 - val_loss: 0.4588 - val_accuracy: 0.9150\n",
      "Epoch 82/100\n",
      " - 2s - loss: 0.0090 - accuracy: 0.9987 - val_loss: 0.4408 - val_accuracy: 0.9150\n",
      "Epoch 83/100\n",
      " - 2s - loss: 0.0072 - accuracy: 1.0000 - val_loss: 0.4441 - val_accuracy: 0.9100\n",
      "Epoch 84/100\n",
      " - 2s - loss: 0.0084 - accuracy: 0.9987 - val_loss: 0.4596 - val_accuracy: 0.9250\n",
      "Epoch 85/100\n",
      " - 2s - loss: 0.0080 - accuracy: 0.9987 - val_loss: 0.4645 - val_accuracy: 0.9250\n",
      "Epoch 86/100\n",
      " - 2s - loss: 0.0070 - accuracy: 0.9987 - val_loss: 0.4609 - val_accuracy: 0.9200\n"
     ]
    },
    {
     "name": "stdout",
     "output_type": "stream",
     "text": [
      "Epoch 87/100\n",
      " - 2s - loss: 0.0114 - accuracy: 0.9975 - val_loss: 0.4590 - val_accuracy: 0.9200\n",
      "Epoch 88/100\n",
      " - 2s - loss: 0.0062 - accuracy: 1.0000 - val_loss: 0.4352 - val_accuracy: 0.9150\n",
      "Epoch 89/100\n",
      " - 2s - loss: 0.0084 - accuracy: 1.0000 - val_loss: 0.4315 - val_accuracy: 0.9200\n",
      "Epoch 90/100\n",
      " - 2s - loss: 0.0055 - accuracy: 1.0000 - val_loss: 0.4393 - val_accuracy: 0.9200\n",
      "Epoch 91/100\n",
      " - 2s - loss: 0.0073 - accuracy: 0.9987 - val_loss: 0.4533 - val_accuracy: 0.9200\n",
      "Epoch 92/100\n",
      " - 2s - loss: 0.0075 - accuracy: 0.9987 - val_loss: 0.4687 - val_accuracy: 0.9150\n",
      "Epoch 93/100\n",
      " - 2s - loss: 0.0075 - accuracy: 0.9987 - val_loss: 0.4737 - val_accuracy: 0.9150\n",
      "Epoch 94/100\n",
      " - 2s - loss: 0.0061 - accuracy: 1.0000 - val_loss: 0.4558 - val_accuracy: 0.9200\n",
      "Epoch 95/100\n",
      " - 2s - loss: 0.0060 - accuracy: 1.0000 - val_loss: 0.4679 - val_accuracy: 0.9150\n",
      "Epoch 96/100\n",
      " - 2s - loss: 0.0062 - accuracy: 1.0000 - val_loss: 0.4659 - val_accuracy: 0.9300\n",
      "Epoch 97/100\n",
      " - 2s - loss: 0.0067 - accuracy: 0.9987 - val_loss: 0.4804 - val_accuracy: 0.9250\n",
      "Epoch 98/100\n",
      " - 2s - loss: 0.0057 - accuracy: 1.0000 - val_loss: 0.4589 - val_accuracy: 0.9200\n",
      "Epoch 99/100\n",
      " - 2s - loss: 0.0055 - accuracy: 1.0000 - val_loss: 0.4841 - val_accuracy: 0.9100\n",
      "Epoch 100/100\n",
      " - 2s - loss: 0.0053 - accuracy: 1.0000 - val_loss: 0.4593 - val_accuracy: 0.9250\n"
     ]
    },
    {
     "data": {
      "text/plain": [
       "<keras.callbacks.callbacks.History at 0x1eb2a786908>"
      ]
     },
     "execution_count": 25,
     "metadata": {},
     "output_type": "execute_result"
    }
   ],
   "source": [
    "model.fit(x_train, y_train, batch_size = 20, epochs = 100, shuffle=True, validation_split=0.2, verbose=2)"
   ]
  },
  {
   "cell_type": "code",
   "execution_count": 27,
   "metadata": {},
   "outputs": [],
   "source": [
    "pred_cls = model.predict_classes(x_test, verbose=0)"
   ]
  },
  {
   "cell_type": "code",
   "execution_count": 28,
   "metadata": {},
   "outputs": [
    {
     "data": {
      "text/plain": [
       "array([7, 2, 1, 0, 4, 1, 4, 9, 5, 9, 0, 6, 9, 0, 1, 5, 9, 7, 3, 4, 9, 6,\n",
       "       6, 5, 4, 0, 7, 4, 0, 1, 3, 1, 3, 6, 7, 2, 7, 1, 2, 1, 1, 7, 4, 2,\n",
       "       5, 5, 1, 2, 4, 4, 6, 3, 5, 5, 6, 0, 4, 1, 9, 5, 7, 8, 9, 3, 7, 4,\n",
       "       6, 4, 3, 0, 7, 0, 2, 9, 1, 7, 3, 2, 9, 7, 9, 6, 2, 7, 8, 4, 7, 3,\n",
       "       6, 1, 3, 6, 9, 3, 1, 4, 1, 7, 6, 9, 6, 0, 5, 4, 9, 9, 2, 1, 9, 4,\n",
       "       8, 7, 3, 9, 7, 4, 4, 4, 9, 2, 5, 4, 7, 6, 4, 9, 0, 5, 8, 5, 6, 6,\n",
       "       5, 7, 8, 1, 0, 1, 6, 4, 6, 7, 3, 1, 7, 1, 8, 2, 0, 2, 9, 9, 5, 5,\n",
       "       1, 5, 6, 0, 3, 4, 4, 6, 5, 4, 6, 5, 4, 5, 1, 4, 4, 7, 2, 3, 2, 7,\n",
       "       1, 8, 1, 8, 1, 8, 5, 0, 8, 9, 2, 5, 0, 1, 1, 1, 0, 3, 0, 3, 1, 6,\n",
       "       4, 2, 3, 6, 1, 1, 1, 3, 9, 5, 2, 9, 4, 5, 9, 3, 9, 0, 3, 5, 5, 5,\n",
       "       7, 2, 2, 7, 1, 2, 8, 4, 1, 7, 5, 3, 8, 9, 7, 9, 2, 2, 4, 1, 5, 9,\n",
       "       8, 3, 2, 3, 0, 4, 4, 2, 9, 1, 9, 5, 7, 7, 2, 8, 2, 6, 8, 5, 7, 7,\n",
       "       9, 1, 8, 1, 8, 0, 3, 0, 1, 9, 9, 4, 1, 8, 2, 1, 2, 9, 7, 5, 9, 2,\n",
       "       6, 4, 1, 5, 4, 2, 9, 2, 0, 4, 0, 0, 2, 8], dtype=int64)"
      ]
     },
     "execution_count": 28,
     "metadata": {},
     "output_type": "execute_result"
    }
   ],
   "source": [
    "pred_cls"
   ]
  },
  {
   "cell_type": "code",
   "execution_count": 29,
   "metadata": {},
   "outputs": [
    {
     "data": {
      "text/plain": [
       "0.9633333333333334"
      ]
     },
     "execution_count": 29,
     "metadata": {},
     "output_type": "execute_result"
    }
   ],
   "source": [
    "accuracy_score(pred_cls, y_test)"
   ]
  },
  {
   "cell_type": "code",
   "execution_count": 30,
   "metadata": {},
   "outputs": [
    {
     "data": {
      "text/plain": [
       "array([[24,  0,  0,  0,  0,  0,  0,  0,  0,  0],\n",
       "       [ 0, 41,  0,  0,  0,  0,  0,  0,  0,  0],\n",
       "       [ 0,  0, 32,  0,  0,  0,  0,  0,  0,  0],\n",
       "       [ 0,  0,  0, 22,  0,  0,  0,  1,  0,  1],\n",
       "       [ 0,  0,  0,  0, 35,  0,  0,  1,  1,  0],\n",
       "       [ 0,  0,  0,  2,  0, 29,  1,  0,  0,  0],\n",
       "       [ 0,  0,  0,  0,  1,  0, 23,  0,  0,  0],\n",
       "       [ 0,  0,  0,  0,  0,  0,  0, 31,  0,  0],\n",
       "       [ 0,  0,  0,  0,  0,  0,  0,  0, 19,  0],\n",
       "       [ 0,  0,  0,  0,  1,  0,  0,  1,  1, 33]], dtype=int64)"
      ]
     },
     "execution_count": 30,
     "metadata": {},
     "output_type": "execute_result"
    }
   ],
   "source": [
    "cm = confusion_matrix(pred_cls, y_test)\n",
    "cm"
   ]
  },
  {
   "cell_type": "code",
   "execution_count": 31,
   "metadata": {},
   "outputs": [
    {
     "data": {
      "text/plain": [
       "Text(0.5, 1, 'confusion matrix')"
      ]
     },
     "execution_count": 31,
     "metadata": {},
     "output_type": "execute_result"
    },
    {
     "data": {
      "image/png": "[encoded data removed]",
      "text/plain": [
       "<Figure size 864x432 with 2 Axes>"
      ]
     },
     "metadata": {
      "needs_background": "light"
     },
     "output_type": "display_data"
    }
   ],
   "source": [
    "plt.figure(figsize=(12,6))\n",
    "sns.heatmap(cm, annot=True)\n",
    "plt.xlabel('predicted')\n",
    "plt.ylabel('truth')\n",
    "plt.title('confusion matrix')"
   ]
  },
  {
   "cell_type": "code",
   "execution_count": 32,
   "metadata": {},
   "outputs": [
    {
     "data": {
      "text/plain": [
       "['E://models//mnist_prediction_cnn']"
      ]
     },
     "execution_count": 32,
     "metadata": {},
     "output_type": "execute_result"
    }
   ],
   "source": [
    "import joblib \n",
    "joblib.dump(model, 'E://models//mnist_prediction_cnn')"
   ]
  },
  {
   "cell_type": "code",
   "execution_count": null,
   "metadata": {},
   "outputs": [],
   "source": []
  }
 ],
 "metadata": {
  "kernelspec": {
   "display_name": "Python 3",
   "language": "python",
   "name": "python3"
  },
  "language_info": {
   "codemirror_mode": {
    "name": "ipython",
    "version": 3
   },
   "file_extension": ".py",
   "mimetype": "text/x-python",
   "name": "python",
   "nbconvert_exporter": "python",
   "pygments_lexer": "ipython3",
   "version": "3.7.4"
  }
 },
 "nbformat": 4,
 "nbformat_minor": 2
}
